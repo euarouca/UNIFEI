{
 "cells": [
  {
   "attachments": {},
   "cell_type": "markdown",
   "metadata": {},
   "source": [
    "## Distribuição de Poisson\n",
    "Vamos começar simulando  um caixa eletrônico que é procurado, em média, por 3,6 pessoas a cada 10 minutos."
   ]
  },
  {
   "cell_type": "code",
   "execution_count": 1,
   "metadata": {},
   "outputs": [],
   "source": [
    "import numpy as np\n",
    "import matplotlib.pyplot as plt\n",
    "import seaborn as sns\n",
    "from scipy.stats import poisson"
   ]
  },
  {
   "attachments": {},
   "cell_type": "markdown",
   "metadata": {},
   "source": [
    "Vamos iniciar aprendendo como gerar um número aleatório baseado na distribuição de Poisson, no caso a distribuição de probabilidade do nosso caixa eletrônico."
   ]
  },
  {
   "cell_type": "code",
   "execution_count": 15,
   "metadata": {},
   "outputs": [
    {
     "data": {
      "text/plain": [
       "8"
      ]
     },
     "execution_count": 15,
     "metadata": {},
     "output_type": "execute_result"
    }
   ],
   "source": [
    "np.random.poisson(3.6)"
   ]
  },
  {
   "attachments": {},
   "cell_type": "markdown",
   "metadata": {},
   "source": [
    "Podemos gerar n números aleatórios com base na distribuição de Poison. A seguir, vamos gerar 10 números aleatórios."
   ]
  },
  {
   "cell_type": "code",
   "execution_count": 16,
   "metadata": {},
   "outputs": [
    {
     "data": {
      "text/plain": [
       "array([ 7,  3,  6, 10,  5,  2,  4,  2,  5,  4])"
      ]
     },
     "execution_count": 16,
     "metadata": {},
     "output_type": "execute_result"
    }
   ],
   "source": [
    "np.random.poisson(3.6, 10)"
   ]
  },
  {
   "attachments": {},
   "cell_type": "markdown",
   "metadata": {},
   "source": [
    "Vamos agora gerar 1.000 números aleatórios e plotar um gráfico mostrando o resultado."
   ]
  },
  {
   "cell_type": "code",
   "execution_count": 29,
   "metadata": {},
   "outputs": [
    {
     "data": {
      "image/png": "[encoded data removed]",
      "text/plain": [
       "<Figure size 640x480 with 1 Axes>"
      ]
     },
     "metadata": {},
     "output_type": "display_data"
    }
   ],
   "source": [
    "tam_fila = np.random.poisson(3.6, 100000)\n",
    "sns.set_theme(style='whitegrid')\n",
    "sns.countplot(x=tam_fila)\n",
    "plt.show()"
   ]
  },
  {
   "attachments": {},
   "cell_type": "markdown",
   "metadata": {},
   "source": [
    "O que fizemos até o momento foi realizar um experimento com base numa distribuição de Poison na qual mu = 3,6. Vamos agora ver como utilizar a linguagem Python para obter a probabilidade, a média, a variância e o desvio padrão que calculamos na aula teórica."
   ]
  },
  {
   "attachments": {},
   "cell_type": "markdown",
   "metadata": {},
   "source": [
    "Um determinado caixa automático é procurado, em média, por 3,6 pessoas a cada 10 minutos. Qual a probabilidade de que 7 pessoas procurem o caixa eletrônico em 10 minutos?"
   ]
  },
  {
   "cell_type": "code",
   "execution_count": 30,
   "metadata": {},
   "outputs": [
    {
     "data": {
      "text/plain": [
       "np.float64(0.04248414026930935)"
      ]
     },
     "execution_count": 30,
     "metadata": {},
     "output_type": "execute_result"
    }
   ],
   "source": [
    "poisson.pmf(7, 3.6)"
   ]
  },
  {
   "attachments": {},
   "cell_type": "markdown",
   "metadata": {},
   "source": [
    "poisson.cdf(k, mu) - Cumulative distribution function - igual ou menos que \\\n",
    "poisson.pmf(k, mu) - Probability mass function - para o valor exato \\\n",
    "poisson.sf(k, mu) - Para mais que (similar a 1 - cdf) \\\n",
    "poisson.mean(k, mu) - Para a média da distribuição \\\n",
    "poisson.var(k mu) - Para a variância da distribuição \\\n",
    "poisson.std(k, mu) - Para o desvio padrão da distribuição"
   ]
  },
  {
   "attachments": {},
   "cell_type": "markdown",
   "metadata": {},
   "source": [
    "Qual é a probabilidade de termos 7 ou menos pessoas buscando o caixa eletrônico? "
   ]
  },
  {
   "cell_type": "code",
   "execution_count": 31,
   "metadata": {},
   "outputs": [
    {
     "data": {
      "text/plain": [
       "np.float64(0.9692107246403425)"
      ]
     },
     "execution_count": 31,
     "metadata": {},
     "output_type": "execute_result"
    }
   ],
   "source": [
    "poisson.cdf(7, 3.6)"
   ]
  },
  {
   "attachments": {},
   "cell_type": "markdown",
   "metadata": {},
   "source": [
    "Vejamos agora o cálculo da média, variância e desvio padrão."
   ]
  },
  {
   "cell_type": "code",
   "execution_count": 32,
   "metadata": {},
   "outputs": [
    {
     "data": {
      "text/plain": [
       "np.float64(3.6)"
      ]
     },
     "execution_count": 32,
     "metadata": {},
     "output_type": "execute_result"
    }
   ],
   "source": [
    "poisson.mean(3.6)"
   ]
  },
  {
   "cell_type": "code",
   "execution_count": 33,
   "metadata": {},
   "outputs": [
    {
     "data": {
      "text/plain": [
       "np.float64(3.6)"
      ]
     },
     "execution_count": 33,
     "metadata": {},
     "output_type": "execute_result"
    }
   ],
   "source": [
    "poisson.var(3.6)"
   ]
  },
  {
   "cell_type": "code",
   "execution_count": 34,
   "metadata": {},
   "outputs": [
    {
     "data": {
      "text/plain": [
       "np.float64(1.8973665961010275)"
      ]
     },
     "execution_count": 34,
     "metadata": {},
     "output_type": "execute_result"
    }
   ],
   "source": [
    "poisson.std(3.6)"
   ]
  },
  {
   "attachments": {},
   "cell_type": "markdown",
   "metadata": {},
   "source": [
    "Vamos agora plotar um gráfico mostrando as probabilidades de termos 0, 1, 2, ..., 10 pessoas na fila. Para tanto, inicialmente geramos um vetor de 0 .. 10 para representar o eixo x e depois geramos outro vetor contendo as probabilidades equivalentes para cada valor do primeiro vetor."
   ]
  },
  {
   "cell_type": "code",
   "execution_count": 37,
   "metadata": {},
   "outputs": [
    {
     "data": {
      "text/plain": [
       "array([ 0,  1,  2,  3,  4,  5,  6,  7,  8,  9, 10, 11, 12, 13, 14, 15])"
      ]
     },
     "execution_count": 37,
     "metadata": {},
     "output_type": "execute_result"
    }
   ],
   "source": [
    "eixo_x = np.arange(0,16)\n",
    "eixo_x"
   ]
  },
  {
   "cell_type": "code",
   "execution_count": 38,
   "metadata": {},
   "outputs": [
    {
     "name": "stdout",
     "output_type": "stream",
     "text": [
      "0 - 0.03\n",
      "1 - 0.1\n",
      "2 - 0.18\n",
      "3 - 0.21\n",
      "4 - 0.19\n",
      "5 - 0.14\n",
      "6 - 0.08\n",
      "7 - 0.04\n",
      "8 - 0.02\n",
      "9 - 0.01\n",
      "10 - 0.0\n",
      "11 - 0.0\n",
      "12 - 0.0\n",
      "13 - 0.0\n",
      "14 - 0.0\n",
      "15 - 0.0\n"
     ]
    }
   ],
   "source": [
    "eixo_y = poisson.pmf(eixo_x, 3.6)\n",
    "for i in range(16):\n",
    "    print(f'{i} - {round(eixo_y[i], 2)}')"
   ]
  },
  {
   "cell_type": "code",
   "execution_count": 40,
   "metadata": {},
   "outputs": [
    {
     "data": {
      "image/png": "[encoded data removed]",
      "text/plain": [
       "<Figure size 640x480 with 1 Axes>"
      ]
     },
     "metadata": {},
     "output_type": "display_data"
    }
   ],
   "source": [
    "sns.barplot(x=eixo_x, y=eixo_y)\n",
    "plt.show()"
   ]
  },
  {
   "attachments": {},
   "cell_type": "markdown",
   "metadata": {},
   "source": [
    "Vamos agora plotar um gráfico mostrando a probabilidade acumulada."
   ]
  },
  {
   "cell_type": "code",
   "execution_count": 41,
   "metadata": {},
   "outputs": [
    {
     "name": "stdout",
     "output_type": "stream",
     "text": [
      "0 - 0.03\n",
      "1 - 0.13\n",
      "2 - 0.3\n",
      "3 - 0.52\n",
      "4 - 0.71\n",
      "5 - 0.84\n",
      "6 - 0.93\n",
      "7 - 0.97\n",
      "8 - 0.99\n",
      "9 - 1.0\n",
      "10 - 1.0\n",
      "11 - 1.0\n",
      "12 - 1.0\n",
      "13 - 1.0\n",
      "14 - 1.0\n",
      "15 - 1.0\n"
     ]
    }
   ],
   "source": [
    "eixo_y = poisson.cdf(eixo_x, 3.6)\n",
    "for i in range(16):\n",
    "    print(f'{i} - {round(eixo_y[i], 2)}')"
   ]
  },
  {
   "cell_type": "code",
   "execution_count": 42,
   "metadata": {},
   "outputs": [
    {
     "data": {
      "image/png": "[encoded data removed]",
      "text/plain": [
       "<Figure size 640x480 with 1 Axes>"
      ]
     },
     "metadata": {},
     "output_type": "display_data"
    }
   ],
   "source": [
    "sns.barplot(x=eixo_x, y=eixo_y)\n",
    "plt.show()"
   ]
  },
  {
   "attachments": {},
   "cell_type": "markdown",
   "metadata": {},
   "source": [
    "Exercício 1 \\\n",
    "Uma empresa recebe, em média, 4,6 chamadas telefônicas por hora. Qual a probabilidade de que ocorram exatamente 8 chamadas em 1 hora?"
   ]
  },
  {
   "cell_type": "code",
   "execution_count": 48,
   "metadata": {},
   "outputs": [
    {
     "name": "stdout",
     "output_type": "stream",
     "text": [
      "5.0 %\n"
     ]
    }
   ],
   "source": [
    "print(round(poisson.pmf(8, 4.6), 4) * 100, '%')"
   ]
  },
  {
   "attachments": {},
   "cell_type": "markdown",
   "metadata": {},
   "source": [
    "Exercício 2 \\\n",
    "Uma empresa recebe, em média, 4,6 chamadas telefônicas por hora. Qual a probabilidade de que ocorram mais de 6 chamadas em 1 hora?"
   ]
  },
  {
   "cell_type": "code",
   "execution_count": 49,
   "metadata": {},
   "outputs": [
    {
     "name": "stdout",
     "output_type": "stream",
     "text": [
      "18.2 %\n"
     ]
    }
   ],
   "source": [
    "print(round(poisson.sf(6, 4.6), 4) * 100, '%')"
   ]
  },
  {
   "attachments": {},
   "cell_type": "markdown",
   "metadata": {},
   "source": [
    "Exercício 3 \\\n",
    "O número médio de colisões ocorrendo em uma semana durante os meses de verão em uma intersecção é de 2,0. Assuma que os pressupostos para a distribuição de Poisson são satisfeitas. \\\n",
    "A) Qual é a probabilidade de que nenhuma colisão ocorra em uma semana em particular? \\\n",
    "B) Qual é a probabilidade de que exatamemente uma colisão ocorra em uma semana em particular? \\\n",
    "C) Qual é a probabilidade de que exatamente duas colisões ocorram em uma semana em particular? \\\n",
    "D) Qual é a probabilidade de encontrar não mais do que duas colisões em uma semana? \\\n",
    "E) Qual é a probabilidade de encontrar exatamente duas colisões em um intervalo de duas semanas?"
   ]
  },
  {
   "cell_type": "code",
   "execution_count": 61,
   "metadata": {},
   "outputs": [
    {
     "name": "stdout",
     "output_type": "stream",
     "text": [
      "0.1353\n"
     ]
    }
   ],
   "source": [
    "print(round(poisson.pmf(0, 2), 4))"
   ]
  },
  {
   "cell_type": "code",
   "execution_count": 62,
   "metadata": {},
   "outputs": [
    {
     "name": "stdout",
     "output_type": "stream",
     "text": [
      "0.2707\n"
     ]
    }
   ],
   "source": [
    "print(round(poisson.pmf(1, 2), 4))"
   ]
  },
  {
   "cell_type": "code",
   "execution_count": 64,
   "metadata": {},
   "outputs": [
    {
     "name": "stdout",
     "output_type": "stream",
     "text": [
      "0.2707\n"
     ]
    }
   ],
   "source": [
    "print(round(poisson.pmf(2, 2), 4))"
   ]
  },
  {
   "cell_type": "code",
   "execution_count": 65,
   "metadata": {},
   "outputs": [
    {
     "name": "stdout",
     "output_type": "stream",
     "text": [
      "0.6767\n"
     ]
    }
   ],
   "source": [
    "print(round(poisson.cdf(2, 2), 4))"
   ]
  },
  {
   "cell_type": "code",
   "execution_count": 66,
   "metadata": {},
   "outputs": [
    {
     "name": "stdout",
     "output_type": "stream",
     "text": [
      "0.1465\n"
     ]
    }
   ],
   "source": [
    "print(round(poisson.pmf(2, 4), 4))"
   ]
  },
  {
   "attachments": {},
   "cell_type": "markdown",
   "metadata": {},
   "source": [
    "Exercício 4 \\\n",
    "O número de meteoros encontrados por um sistem de radar em qualquer intervalo de 30-segundos sob determinadas condições é em média 1.81. Assuma que os meteoros apareçam aleatóriamente e independentemente.\n",
    "A) Qual é a probabilidade de que nenhum meteoro seja encontrado em um intervalo de um minuto (60-segundos)?\n",
    "B) Qual é a probabilidade de que sejam observados no mínimo cinco porém não mais que oito meteoros em dois minutos (120-segundos) de observação?"
   ]
  },
  {
   "cell_type": "code",
   "execution_count": 67,
   "metadata": {},
   "outputs": [
    {
     "name": "stdout",
     "output_type": "stream",
     "text": [
      "0.0268\n"
     ]
    }
   ],
   "source": [
    "print(round(poisson.pmf(0, 3.62), 4))"
   ]
  },
  {
   "cell_type": "code",
   "execution_count": 71,
   "metadata": {},
   "outputs": [
    {
     "name": "stdout",
     "output_type": "stream",
     "text": [
      "0.5451062052204809\n"
     ]
    }
   ],
   "source": [
    "vet = np.arange(5, 9)\n",
    "vet2 = poisson.pmf(vet, 7.24)\n",
    "print(sum(vet2))"
   ]
  }
 ],
 "metadata": {
  "kernelspec": {
   "display_name": "Python 3",
   "language": "python",
   "name": "python3"
  },
  "language_info": {
   "codemirror_mode": {
    "name": "ipython",
    "version": 3
   },
   "file_extension": ".py",
   "mimetype": "text/x-python",
   "name": "python",
   "nbconvert_exporter": "python",
   "pygments_lexer": "ipython3",
   "version": "3.13.0"
  },
  "orig_nbformat": 4
 },
 "nbformat": 4,
 "nbformat_minor": 2
}
