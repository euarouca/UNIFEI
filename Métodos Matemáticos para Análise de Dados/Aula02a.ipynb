{
 "cells": [
  {
   "attachments": {},
   "cell_type": "markdown",
   "metadata": {},
   "source": [
    "## Listas\n",
    "Listas são estruturas de dados muito úteis para manipulação e análise de dados. Nesta aula vamos aprender os princípios básicos para manipulação de listas. Criar uma lista em Python é muito simples: \\\n",
    "l = [] # Cria uma lista vazia \\\n",
    "l = [1, 2, 3, 4, 5] # Cria uma lista com 5 inteiros"
   ]
  },
  {
   "cell_type": "code",
   "execution_count": 30,
   "metadata": {},
   "outputs": [
    {
     "data": {
      "text/plain": [
       "[1, 2, 3, 4, 5]"
      ]
     },
     "execution_count": 30,
     "metadata": {},
     "output_type": "execute_result"
    }
   ],
   "source": [
    "l = [1, 2, 3, 4, 5]\n",
    "l"
   ]
  },
  {
   "cell_type": "markdown",
   "metadata": {},
   "source": [
    "Para acessar os itens de uma lista, basta utilizar índices, de forma similar ao funcionamento de vetores na linguagem C. Vamos acessar o segundo elemento da nossa lista."
   ]
  },
  {
   "cell_type": "code",
   "execution_count": 7,
   "metadata": {},
   "outputs": [
    {
     "data": {
      "text/plain": [
       "2"
      ]
     },
     "execution_count": 7,
     "metadata": {},
     "output_type": "execute_result"
    }
   ],
   "source": [
    "l[1]"
   ]
  },
  {
   "attachments": {},
   "cell_type": "markdown",
   "metadata": {},
   "source": [
    "Pode ser necessário acessar mais de um elemento de uma lista. Neste caso, o que se deseja é obter uma sublista da lista original. Python provê um mecanismo muito simples para gerar uma sublista de uma lista.\n",
    "Vamos obter os elementos do meio da nossa lista, excluindo o primeiro e o último. Como fazer isso?"
   ]
  },
  {
   "cell_type": "code",
   "execution_count": 9,
   "metadata": {},
   "outputs": [
    {
     "data": {
      "text/plain": [
       "[2, 3, 4]"
      ]
     },
     "execution_count": 9,
     "metadata": {},
     "output_type": "execute_result"
    }
   ],
   "source": [
    "l[1:4]"
   ]
  },
  {
   "cell_type": "markdown",
   "metadata": {},
   "source": [
    "Diferentemente de um vetor, uma lista pode conter elementos de diferentes tipos. Vamos criar uma lista com inteiros, números de ponto flutuante e strings."
   ]
  },
  {
   "cell_type": "code",
   "execution_count": 10,
   "metadata": {},
   "outputs": [
    {
     "data": {
      "text/plain": [
       "[8, 7.5, 'data science']"
      ]
     },
     "execution_count": 10,
     "metadata": {},
     "output_type": "execute_result"
    }
   ],
   "source": [
    "l2 = [8, 7.5, 'data science']\n",
    "l2"
   ]
  },
  {
   "cell_type": "markdown",
   "metadata": {},
   "source": [
    "Vamos checar agora os tipos dos dados que estamos manipulando."
   ]
  },
  {
   "cell_type": "code",
   "execution_count": 13,
   "metadata": {},
   "outputs": [
    {
     "data": {
      "text/plain": [
       "str"
      ]
     },
     "execution_count": 13,
     "metadata": {},
     "output_type": "execute_result"
    }
   ],
   "source": [
    "type(l2[2])\n"
   ]
  },
  {
   "cell_type": "markdown",
   "metadata": {},
   "source": [
    "Outra característica importante é que elementos de uma lista podem também ser listas, ou seja, podemos ter listas de listas. Vejamos um exemplo:"
   ]
  },
  {
   "cell_type": "code",
   "execution_count": 14,
   "metadata": {},
   "outputs": [
    {
     "data": {
      "text/plain": [
       "[[1, 2, 3], ['um', 'dois', 'tres']]"
      ]
     },
     "execution_count": 14,
     "metadata": {},
     "output_type": "execute_result"
    }
   ],
   "source": [
    "ll = [\n",
    "    [1, 2, 3],\n",
    "    ['um', 'dois', 'tres'],\n",
    "]\n",
    "ll"
   ]
  },
  {
   "cell_type": "markdown",
   "metadata": {},
   "source": [
    "Se quisermos acessar a string 'três', como devemos proceder?"
   ]
  },
  {
   "cell_type": "code",
   "execution_count": 15,
   "metadata": {},
   "outputs": [
    {
     "data": {
      "text/plain": [
       "'tres'"
      ]
     },
     "execution_count": 15,
     "metadata": {},
     "output_type": "execute_result"
    }
   ],
   "source": [
    "ll[1][2]"
   ]
  },
  {
   "cell_type": "markdown",
   "metadata": {},
   "source": [
    "Vamos agora alterar uma lista. Retomando nossa lista inicial l = [1, 2, 3, 4, 5], vamos substituir o inteiro 1 pela string 'um'."
   ]
  },
  {
   "cell_type": "code",
   "execution_count": 31,
   "metadata": {},
   "outputs": [
    {
     "data": {
      "text/plain": [
       "['um', 2, 3, 4, 5]"
      ]
     },
     "execution_count": 31,
     "metadata": {},
     "output_type": "execute_result"
    }
   ],
   "source": [
    "l[0] = 'um'\n",
    "l"
   ]
  },
  {
   "cell_type": "markdown",
   "metadata": {},
   "source": [
    "Se quisermos adicionar um elemento a uma lista, usamos o método append."
   ]
  },
  {
   "cell_type": "code",
   "execution_count": 32,
   "metadata": {},
   "outputs": [
    {
     "data": {
      "text/plain": [
       "['um', 2, 3, 4, 5, 6]"
      ]
     },
     "execution_count": 32,
     "metadata": {},
     "output_type": "execute_result"
    }
   ],
   "source": [
    "l.append(6)\n",
    "l"
   ]
  },
  {
   "cell_type": "markdown",
   "metadata": {},
   "source": [
    "Para remover um elemento da lista, o método 'pop' deve ser utilizado. Se não for informado um índice, o método pop removerá o elemento da cauda da lista. Se um índice for informado, o elemento que corresponde à posição do índice será removido."
   ]
  },
  {
   "cell_type": "code",
   "execution_count": 34,
   "metadata": {},
   "outputs": [
    {
     "name": "stdout",
     "output_type": "stream",
     "text": [
      "5\n",
      "['um', 2, 3, 4]\n"
     ]
    }
   ],
   "source": [
    "elem = l.pop()\n",
    "print(elem)\n",
    "print(l)"
   ]
  },
  {
   "cell_type": "code",
   "execution_count": 35,
   "metadata": {},
   "outputs": [
    {
     "data": {
      "text/plain": [
       "[2, 3, 4]"
      ]
     },
     "execution_count": 35,
     "metadata": {},
     "output_type": "execute_result"
    }
   ],
   "source": [
    "l.pop(0)\n",
    "l"
   ]
  },
  {
   "attachments": {},
   "cell_type": "markdown",
   "metadata": {},
   "source": [
    "Existem ainda uma série de métodos muito úteis para manipulação de listas. Se você está utilizando o VS Code, o autocomplete lista todos os métodos disponíveis para manipulação de listas. Se estiver usando o Jupyter Notebook no browser, basta pressionar Tab após referenciar a lista para ver todos os métodos disponíveis. Vejamos alguns métodos interessantes: \\\n",
    "-count: conta as ocorrências de um determinado elemento numa lista \\\n",
    "-reverse: inverte a lista \\\n",
    "-insert: insere um elemento numa determinada posição, se já existe um elemento naquela posição, o elemento é deslocado para a posição seguinte \\\n",
    "-remove: similar ao pop \\\n",
    "-sort: ordena a lista"
   ]
  },
  {
   "attachments": {},
   "cell_type": "markdown",
   "metadata": {},
   "source": [
    "Suponha que você queira criar uma lista com números gerados automaticamente. Para tanto, você pode usar o método range. Duas assinaturas são possíveis: \\\n",
    "range (stop): gera números a partir do zero até 'stop' \\\n",
    "range (start, stop): gera números a partir de 'start' até 'stop' \\\n",
    "range (start, stop, step): gera números a partir de 'start' até 'stop' com espaçamento entre os números de 'step'"
   ]
  },
  {
   "cell_type": "code",
   "execution_count": 37,
   "metadata": {},
   "outputs": [
    {
     "data": {
      "text/plain": [
       "[0, 1, 2, 3, 4]"
      ]
     },
     "execution_count": 37,
     "metadata": {},
     "output_type": "execute_result"
    }
   ],
   "source": [
    "list(range(5))"
   ]
  },
  {
   "cell_type": "code",
   "execution_count": 38,
   "metadata": {},
   "outputs": [
    {
     "data": {
      "text/plain": [
       "[10, 11, 12, 13, 14, 15, 16, 17, 18, 19]"
      ]
     },
     "execution_count": 38,
     "metadata": {},
     "output_type": "execute_result"
    }
   ],
   "source": [
    "list(range(10, 20))"
   ]
  },
  {
   "cell_type": "code",
   "execution_count": 40,
   "metadata": {},
   "outputs": [
    {
     "data": {
      "text/plain": [
       "[10, 15, 20, 25, 30, 35, 40, 45, 50, 55, 60, 65, 70, 75, 80, 85, 90, 95]"
      ]
     },
     "execution_count": 40,
     "metadata": {},
     "output_type": "execute_result"
    }
   ],
   "source": [
    "list(range(10,100,5))"
   ]
  },
  {
   "attachments": {},
   "cell_type": "markdown",
   "metadata": {},
   "source": [
    "Por fim, podemos processar uma lista usando um laço for. Vamos criar uma lista de nomes e imprimir de forma numerada essa lista."
   ]
  },
  {
   "cell_type": "code",
   "execution_count": null,
   "metadata": {},
   "outputs": [
    {
     "name": "stdout",
     "output_type": "stream",
     "text": [
      "1 - Maria\n",
      "2 - Giovana\n",
      "3 - Lucas\n",
      "4 - Luiz\n",
      "5 - Sarah\n"
     ]
    }
   ],
   "source": [
    "nomes = [\n",
    "    'Maria',\n",
    "    'Giovana',\n",
    "    'Lucas',\n",
    "    'Luiz',\n",
    "    'Sarah'\n",
    "]\n",
    "\n",
    "for i, nome in enumerate(nomes):\n",
    "    print(f'{i+1} - {nome}')"
   ]
  },
  {
   "cell_type": "markdown",
   "metadata": {},
   "source": [
    "### Exercícios"
   ]
  },
  {
   "attachments": {},
   "cell_type": "markdown",
   "metadata": {},
   "source": [
    "1) Crie uma lista contendo as seguintes frutas: banana, maçã, pera, caqui e laranja. \\\n",
    "A. Ordene e imprima a lista \\\n",
    "B. Insira abacate no início da lista e uva no final e imprima a lista \\\n",
    "C. Imprima o elemento do meio da lista \\\n",
    "D. Imprima os 3 primeiros elementos da lista \\\n",
    "E. Imprima os 3 últimos elementos da lista \\\n",
    "F. Inverta a lista e imprima a lista invertida \\\n",
    "G. Imprima uma lista de compras contendo 3 unidades de cada fruta"
   ]
  },
  {
   "cell_type": "code",
   "execution_count": 43,
   "metadata": {},
   "outputs": [
    {
     "data": {
      "text/plain": [
       "['banana', 'caqui', 'laranja', 'maçã', 'pera']"
      ]
     },
     "execution_count": 43,
     "metadata": {},
     "output_type": "execute_result"
    }
   ],
   "source": [
    "#A. Ordene e imprima a lista\n",
    "frutas = [\n",
    "    'banana',\n",
    "    'maçã',\n",
    "    'pera',\n",
    "    'caqui',\n",
    "    'laranja'\n",
    "]\n",
    "frutas.sort()\n",
    "frutas"
   ]
  },
  {
   "cell_type": "code",
   "execution_count": 62,
   "metadata": {},
   "outputs": [
    {
     "data": {
      "text/plain": [
       "['abacate', 'banana', 'caqui', 'laranja', 'maçã', 'pera', 'uva']"
      ]
     },
     "execution_count": 62,
     "metadata": {},
     "output_type": "execute_result"
    }
   ],
   "source": [
    "#B. Insira abacate no início da lista e uva no final e imprima a lista\n",
    "frutas.insert(0, 'abacate')\n",
    "frutas.append('uva')\n",
    "frutas"
   ]
  },
  {
   "cell_type": "code",
   "execution_count": 67,
   "metadata": {},
   "outputs": [
    {
     "data": {
      "text/plain": [
       "'laranja'"
      ]
     },
     "execution_count": 67,
     "metadata": {},
     "output_type": "execute_result"
    }
   ],
   "source": [
    "#C. Imprima o elemento do meio da lista\n",
    "meio = len(frutas)\n",
    "frutas[int(meio/2)]"
   ]
  },
  {
   "cell_type": "code",
   "execution_count": 68,
   "metadata": {},
   "outputs": [
    {
     "data": {
      "text/plain": [
       "['abacate', 'banana', 'caqui']"
      ]
     },
     "execution_count": 68,
     "metadata": {},
     "output_type": "execute_result"
    }
   ],
   "source": [
    "#D. Imprima os 3 primeiros elementos da lista\n",
    "frutas[:3]"
   ]
  },
  {
   "cell_type": "code",
   "execution_count": 69,
   "metadata": {},
   "outputs": [
    {
     "data": {
      "text/plain": [
       "['maçã', 'pera', 'uva']"
      ]
     },
     "execution_count": 69,
     "metadata": {},
     "output_type": "execute_result"
    }
   ],
   "source": [
    "#E. Imprima os 3 últimos elementos da lista\n",
    "frutas[-3:]"
   ]
  },
  {
   "cell_type": "code",
   "execution_count": 70,
   "metadata": {},
   "outputs": [
    {
     "data": {
      "text/plain": [
       "['uva', 'pera', 'maçã', 'laranja', 'caqui', 'banana', 'abacate']"
      ]
     },
     "execution_count": 70,
     "metadata": {},
     "output_type": "execute_result"
    }
   ],
   "source": [
    "#F. Inverta a lista e imprima a lista invertida \n",
    "frutas.reverse()\n",
    "frutas"
   ]
  },
  {
   "cell_type": "code",
   "execution_count": 85,
   "metadata": {},
   "outputs": [
    {
     "name": "stdout",
     "output_type": "stream",
     "text": [
      "- LISTA DE COMPRAS -\n",
      " - 3 uvas\n",
      " - 3 peras\n",
      " - 3 maçãs\n",
      " - 3 laranjas\n",
      " - 3 caquis\n",
      " - 3 bananas\n",
      " - 3 abacates\n"
     ]
    }
   ],
   "source": [
    "#G. Imprima uma lista de compras contendo 3 unidades de cada fruta\n",
    "print('- LISTA DE COMPRAS -')\n",
    "for fruta in frutas:\n",
    "    print(f' - 3 {fruta}s')"
   ]
  },
  {
   "cell_type": "markdown",
   "metadata": {},
   "source": [
    "2) Considere a lista a seguir."
   ]
  },
  {
   "cell_type": "code",
   "execution_count": 73,
   "metadata": {},
   "outputs": [],
   "source": [
    "lista = [12, 8, 15, 10, 12, 6, 19, 23, 7, 8, 14, 12, 20, 4, 14, 12, 8, 25, 21, 11]"
   ]
  },
  {
   "cell_type": "markdown",
   "metadata": {},
   "source": [
    "A. Obtenha o maior elemento da lista. \\\n",
    "B. Obtenha a soma dos elementos da lista. \\\n",
    "C. Informe o tamanho da lista (sua quantidade de elementos). \\\n",
    "D. Troque a posição do primeiro e do último elementos da lista (primeiro vira último e último vira primeiro). \\\n",
    "E. Obtenha o segundo maior elemento da lista. \\\n",
    "F. Conte as ocorrências do número 12. \\\n",
    "G. Crie uma lista l1 contendo os elementos pares da lista e uma lista l2 contendo os elementos ímpares. Imprima l1 e l2."
   ]
  },
  {
   "cell_type": "code",
   "execution_count": 74,
   "metadata": {},
   "outputs": [
    {
     "data": {
      "text/plain": [
       "25"
      ]
     },
     "execution_count": 74,
     "metadata": {},
     "output_type": "execute_result"
    }
   ],
   "source": [
    "#A. Obtenha o maior elemento da lista. \n",
    "max(lista)"
   ]
  },
  {
   "cell_type": "code",
   "execution_count": 75,
   "metadata": {},
   "outputs": [
    {
     "data": {
      "text/plain": [
       "261"
      ]
     },
     "execution_count": 75,
     "metadata": {},
     "output_type": "execute_result"
    }
   ],
   "source": [
    "#B. Obtenha a soma dos elementos da lista. \n",
    "sum(lista)"
   ]
  },
  {
   "cell_type": "code",
   "execution_count": 76,
   "metadata": {},
   "outputs": [
    {
     "data": {
      "text/plain": [
       "20"
      ]
     },
     "execution_count": 76,
     "metadata": {},
     "output_type": "execute_result"
    }
   ],
   "source": [
    "#C. Informe o tamanho da lista (sua quantidade de elementos).\n",
    "len(lista)"
   ]
  },
  {
   "cell_type": "code",
   "execution_count": 105,
   "metadata": {},
   "outputs": [
    {
     "data": {
      "text/plain": [
       "[4, 6, 7, 8, 8, 8, 10, 11, 12, 12, 12, 12, 14, 14, 15, 19, 20, 21, 23, 25]"
      ]
     },
     "execution_count": 105,
     "metadata": {},
     "output_type": "execute_result"
    }
   ],
   "source": [
    "#D. Troque a posição do primeiro e do último elementos da lista (primeiro vira último e último vira primeiro).\n",
    "lista[0], lista[-1] = lista[-1], lista[0]\n",
    "lista"
   ]
  },
  {
   "cell_type": "code",
   "execution_count": 99,
   "metadata": {},
   "outputs": [
    {
     "data": {
      "text/plain": [
       "23"
      ]
     },
     "execution_count": 99,
     "metadata": {},
     "output_type": "execute_result"
    }
   ],
   "source": [
    "#E. Obtenha o segundo maior elemento da lista. \n",
    "lista.sort()\n",
    "lista[-2]"
   ]
  },
  {
   "cell_type": "code",
   "execution_count": 100,
   "metadata": {},
   "outputs": [
    {
     "data": {
      "text/plain": [
       "4"
      ]
     },
     "execution_count": 100,
     "metadata": {},
     "output_type": "execute_result"
    }
   ],
   "source": [
    "#F. Conte as ocorrências do número 12. \n",
    "lista.count(12)"
   ]
  },
  {
   "cell_type": "code",
   "execution_count": 107,
   "metadata": {},
   "outputs": [
    {
     "name": "stdout",
     "output_type": "stream",
     "text": [
      "[4, 6, 8, 8, 8, 10, 12, 12, 12, 12, 14, 14, 20]\n",
      "[7, 11, 15, 19, 21, 23, 25]\n"
     ]
    }
   ],
   "source": [
    "#G. Crie uma lista l1 contendo os elementos pares da lista e uma lista l2 contendo os elementos ímpares. Imprima l1 e l2.\n",
    "l1 = [num for num in lista if num % 2 == 0]\n",
    "l2 = [num for num in lista if num % 2 != 0]\n",
    "print(l1)\n",
    "print(l2)"
   ]
  }
 ],
 "metadata": {
  "kernelspec": {
   "display_name": "Python 3",
   "language": "python",
   "name": "python3"
  },
  "language_info": {
   "codemirror_mode": {
    "name": "ipython",
    "version": 3
   },
   "file_extension": ".py",
   "mimetype": "text/x-python",
   "name": "python",
   "nbconvert_exporter": "python",
   "pygments_lexer": "ipython3",
   "version": "3.13.0"
  }
 },
 "nbformat": 4,
 "nbformat_minor": 2
}
