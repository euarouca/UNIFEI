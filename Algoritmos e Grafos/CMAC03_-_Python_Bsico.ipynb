{
  "cells": [
    {
      "cell_type": "markdown",
      "metadata": {
        "id": "ip2ANNdKf0LB"
      },
      "source": [
        "### **UNIVERSIDADE FEDERAL DE ITAJUBÁ**\n",
        "### **Instituto de Matemática e Computação**\n",
        "### **Ciência da Computação**\n",
        "\n",
        "--\n",
        "\n",
        "### **CMAC03 - Algoritmos em Grafos**\n",
        "\n",
        "### **Tópico: 1. Introdução à Grafos**\n",
        "\n",
        "## **Aula Prática - Python Básico**\n",
        "\n",
        "---\n",
        "\n",
        "**Objetivo:** Este notebook tem por objetivo apresentar a linguagem que será adotada para implementação dos algoritmos que serão abordados na disciplina. Ele pode ser usado como ambiente de desenvolvimento alternativo à IDE e ao Moodle. Contudo, visando uma maior autonomia do aluno, a recomendação é que seja utilizada uma IDE instalada localmente no seu equipamento.\n",
        "\n",
        "Para cada enunciado a seguir implemente os códigos de modo a atender o que se pede.\n",
        "\n",
        "---"
      ]
    },
    {
      "cell_type": "markdown",
      "metadata": {
        "id": "WlL9X1hpVa-D"
      },
      "source": [
        "## **Matrícula:** 2024009210\n",
        "## **Nome:** Lucas Arouca Baldoni Mello Palhares\n",
        "---\n"
      ]
    },
    {
      "cell_type": "markdown",
      "metadata": {
        "id": "NtD00egiGzf5"
      },
      "source": [
        "## **0. Bibliotecas**\n",
        "\n",
        "É recomendável adicionar as bibliotecas necessárias logo no início do código seguindo uma boa prática de programação além de evitar futuros problemas. **Obs**: Use a célula abaixo para as bibliotecas que forem necessárias."
      ]
    },
    {
      "cell_type": "markdown",
      "metadata": {
        "id": "mQapqw0BCTsC"
      },
      "source": [
        "**Q1.** Instale a biblioteca iGraph (https://python.igraph.org/en/stable/)."
      ]
    },
    {
      "cell_type": "code",
      "execution_count": 1,
      "metadata": {
        "id": "_f_df5P6K3ic"
      },
      "outputs": [
        {
          "name": "stdout",
          "output_type": "stream",
          "text": [
            "Requirement already satisfied: igraph in /Library/Frameworks/Python.framework/Versions/3.13/lib/python3.13/site-packages (0.11.8)\n",
            "Requirement already satisfied: texttable>=1.6.2 in /Library/Frameworks/Python.framework/Versions/3.13/lib/python3.13/site-packages (from igraph) (1.7.0)\n",
            "Note: you may need to restart the kernel to use updated packages.\n"
          ]
        }
      ],
      "source": [
        "pip install igraph"
      ]
    },
    {
      "cell_type": "markdown",
      "metadata": {
        "id": "8CPIA02RC7Kx"
      },
      "source": [
        "**Q2.** Importe as seguintes bibliotecas: numpy, time, math, random, igraph. Faça a montagem de uma pasta no repositório do Google Drive que contenha os *datasets* sobre grafos disponíveis no SIGAA (simples, ponte, zachary)."
      ]
    },
    {
      "cell_type": "code",
      "execution_count": 7,
      "metadata": {
        "colab": {
          "base_uri": "https://localhost:8080/"
        },
        "id": "sBIodkzkiSzs",
        "outputId": "b7a7fe6c-15a8-44c1-94dd-dca8244550fe"
      },
      "outputs": [],
      "source": [
        "import numpy\n",
        "import time\n",
        "import math\n",
        "import random\n",
        "import igraph as ig"
      ]
    },
    {
      "cell_type": "markdown",
      "metadata": {
        "id": "42B4P0y9FzFi"
      },
      "source": [
        "---\n",
        "## **1. Variáveis e *Strings***"
      ]
    },
    {
      "cell_type": "markdown",
      "metadata": {
        "id": "4vmOk_z1j8X6"
      },
      "source": [
        "**Q3.** Crie uma variável do tipo *string* que recebe um valor de entrada dado pelo usuário e retorna um valor do tipo inteiro que é o triplo do valor fornecido."
      ]
    },
    {
      "cell_type": "code",
      "execution_count": null,
      "metadata": {
        "colab": {
          "base_uri": "https://localhost:8080/"
        },
        "id": "ww9ac5cOkMmk",
        "outputId": "fcaa988c-2c26-4176-df0e-c36604525a4e"
      },
      "outputs": [
        {
          "name": "stdout",
          "output_type": "stream",
          "text": [
            "<class 'str'>\n",
            "<class 'int'> 9\n"
          ]
        }
      ],
      "source": [
        "valor = str(input('Digite um numero: '))\n",
        "print(type(valor))\n",
        "valor = int(valor)\n",
        "print(type(valor), valor * 3)"
      ]
    },
    {
      "cell_type": "markdown",
      "metadata": {
        "id": "pS4CLe2cObvv"
      },
      "source": [
        "\n",
        "**Q4.** Concatene duas *strings* dadas pela entrada do usuário e cujos caracteres estão todos em caixa baixa (minúsculos), de modo que o primeiro caracter de cada string se torne caixa alta (maiúsculo)."
      ]
    },
    {
      "cell_type": "code",
      "execution_count": 6,
      "metadata": {
        "colab": {
          "base_uri": "https://localhost:8080/"
        },
        "id": "KwmdX7SvPt_3",
        "outputId": "7271c097-478e-4fb5-9f07-2f8b70799312"
      },
      "outputs": [
        {
          "name": "stdout",
          "output_type": "stream",
          "text": [
            "Lucas Arouca\n"
          ]
        }
      ],
      "source": [
        "first_name = input('Digite seu primeiro nome: ')\n",
        "last_name = input('Digite seu ultimo nome: ')\n",
        "nome_completo = first_name + ' ' + last_name\n",
        "print(nome_completo.title())"
      ]
    },
    {
      "cell_type": "markdown",
      "metadata": {
        "id": "W3_UWm5MFrl5"
      },
      "source": [
        "---\n",
        "## **2. Entrada e Saída**\n",
        "\n",
        "**Q5.** Implemente uma função que recebe como entrada o nome de um *dataset* armazenado no seu Google Drive (ex. simples, ponte, zachary), lê o respectivo arquivo .txt, atribua o conteúdo do arquivo a um objeto tipo `numpy.ndarray`, imprime na tela a respectiva matriz e o seu tipo."
      ]
    },
    {
      "cell_type": "code",
      "execution_count": null,
      "metadata": {
        "id": "gqlP4p8ZJ-re"
      },
      "outputs": [],
      "source": []
    },
    {
      "cell_type": "markdown",
      "metadata": {
        "id": "3jT4mpgQ_04q"
      },
      "source": [
        "**Q6.** Obtenha as dimensões da matriz no formato (linhas, colunas), bem como a lista com os valores constantes na sua diagonal."
      ]
    },
    {
      "cell_type": "code",
      "execution_count": null,
      "metadata": {
        "colab": {
          "base_uri": "https://localhost:8080/"
        },
        "id": "hyanQ1fq_qpC",
        "outputId": "59f42b95-d88c-469e-93bb-5022c95b0c0e"
      },
      "outputs": [
        {
          "name": "stdout",
          "output_type": "stream",
          "text": [
            "(4, 4)\n",
            "[0 0 0 0]\n"
          ]
        }
      ],
      "source": []
    },
    {
      "cell_type": "markdown",
      "metadata": {
        "id": "TeMb6df9RXfx"
      },
      "source": [
        "**Q7.** Usando a matriz obtida em Q5, imprima o elemento da posição [i][j] informado pelo usuário. Informe caso algum índice dado na entrada seja maior que a dimensão da matriz."
      ]
    },
    {
      "cell_type": "code",
      "execution_count": null,
      "metadata": {
        "colab": {
          "base_uri": "https://localhost:8080/"
        },
        "id": "3CxUKIG5RkPE",
        "outputId": "b79fadaf-351e-4422-9bae-8cab1ffebffc"
      },
      "outputs": [
        {
          "name": "stdout",
          "output_type": "stream",
          "text": [
            "Digite a linha i desejada: 2\n",
            "Digite a coluna j desejada: 3\n",
            "Elemento da posição [2][3]: 1\n"
          ]
        }
      ],
      "source": []
    },
    {
      "cell_type": "markdown",
      "metadata": {
        "id": "6b8-758_OGfF"
      },
      "source": [
        "**Q8.** Salve em um arquivo no seu Google Drive com o nome \"resultado.txt\", lista dos valores da diagonal da matriz obtida em Q6."
      ]
    },
    {
      "cell_type": "code",
      "execution_count": null,
      "metadata": {
        "colab": {
          "base_uri": "https://localhost:8080/"
        },
        "id": "j2PuWn_fO-MT",
        "outputId": "97e16b39-e156-4607-be03-efbe80c0a3c2"
      },
      "outputs": [
        {
          "name": "stdout",
          "output_type": "stream",
          "text": [
            "Lista salva em Arquivo!\n"
          ]
        }
      ],
      "source": [
        "\n",
        "\n"
      ]
    },
    {
      "cell_type": "markdown",
      "metadata": {
        "id": "bIshTAb2F-8n"
      },
      "source": [
        "---\n",
        "## **3. Estruturas**"
      ]
    },
    {
      "cell_type": "markdown",
      "metadata": {
        "id": "XD_tfMWKFlTB"
      },
      "source": [
        "**Q9.** A partir da matriz, implemente uma função que constroi um dicionário. Cada chave do dicionário corresponde ao índice da linha da matriz. O valor de cada chave corresponde a uma lista com os índices das colunas associadas à linha em questão, que possuam valor maior que 0. Caso o valor da coluna seja maior que 1 deve-se repetir o índice da coluna conforme o valor (ex. a célula dada pela linha 1 e coluna 2 tem valor 4, logo, o valor 2 na lista da linha 1 precisará ser repetido 4 vezes)."
      ]
    },
    {
      "cell_type": "code",
      "execution_count": null,
      "metadata": {
        "id": "slz-xUP3HWha"
      },
      "outputs": [],
      "source": []
    },
    {
      "cell_type": "markdown",
      "metadata": {
        "id": "lghWWu97BYSZ"
      },
      "source": [
        "**Q10.** Calcule o tempo total de execução da função que implementou em Q9, considerando precisão de 4 (quatro) casas decimais."
      ]
    },
    {
      "cell_type": "code",
      "execution_count": null,
      "metadata": {
        "colab": {
          "base_uri": "https://localhost:8080/"
        },
        "id": "BqNrNBf_NBZt",
        "outputId": "cbf7c995-be14-478c-9edb-886a741b8021"
      },
      "outputs": [
        {
          "name": "stdout",
          "output_type": "stream",
          "text": [
            "0.0001\n"
          ]
        }
      ],
      "source": []
    },
    {
      "cell_type": "markdown",
      "metadata": {
        "id": "sBY0yhugPzfv"
      },
      "source": [
        "\n",
        "**Q11.** Crie uma lista que armazene os valores de uma linha da matriz obtida em Q5, cujo índice da linha é dado como entrada. Imprima na tela essa lista e a sua versão invertida."
      ]
    },
    {
      "cell_type": "code",
      "execution_count": null,
      "metadata": {
        "colab": {
          "base_uri": "https://localhost:8080/"
        },
        "id": "zZqJePzTQKcD",
        "outputId": "59190a31-c859-4689-b59c-87c1500d4c33"
      },
      "outputs": [
        {
          "name": "stdout",
          "output_type": "stream",
          "text": [
            "Digite a linha i desejada: 2\n",
            "[0, 1, 0, 1]\n",
            "[1, 0, 1, 0]\n"
          ]
        }
      ],
      "source": []
    },
    {
      "cell_type": "markdown",
      "metadata": {
        "id": "DjXLHFguEnyT"
      },
      "source": [
        "**Q12.** Considere a lista obtida em Q11 e altere o elemento que consta na posição 1 dessa lista para o valor 2."
      ]
    },
    {
      "cell_type": "code",
      "execution_count": null,
      "metadata": {
        "colab": {
          "base_uri": "https://localhost:8080/"
        },
        "id": "VGXIj4eVFHfm",
        "outputId": "a6f9d482-634e-4e91-edd9-8996c6a9b562"
      },
      "outputs": [
        {
          "name": "stdout",
          "output_type": "stream",
          "text": [
            "[0, 2, 0, 1]\n"
          ]
        }
      ],
      "source": []
    },
    {
      "cell_type": "markdown",
      "metadata": {
        "id": "I54KG6viFQbG"
      },
      "source": [
        "**Q13.** Considerando a lista obtida em Q11, inclua o elemento 5 no final dessa lista e inclua o elemento 3 na posição 1 da lista."
      ]
    },
    {
      "cell_type": "code",
      "execution_count": null,
      "metadata": {
        "colab": {
          "base_uri": "https://localhost:8080/"
        },
        "id": "fCSQ-oC3FukX",
        "outputId": "6d690575-e439-412d-e86f-87d613e4198a"
      },
      "outputs": [
        {
          "name": "stdout",
          "output_type": "stream",
          "text": [
            "[0, 3, 2, 0, 1, 5]\n"
          ]
        }
      ],
      "source": []
    },
    {
      "cell_type": "markdown",
      "metadata": {
        "id": "aTmrJnfXGHVE"
      },
      "source": [
        "---\n",
        "## **4. Estruturas de Repetição**"
      ]
    },
    {
      "cell_type": "markdown",
      "metadata": {
        "id": "bJkBHPVMSMVn"
      },
      "source": [
        "**Q14.** Crie uma função que recebe um número do usuário e imprime na tela uma contagem regressiva até o valor 1. Utilize o comando `for`."
      ]
    },
    {
      "cell_type": "code",
      "execution_count": null,
      "metadata": {
        "colab": {
          "base_uri": "https://localhost:8080/"
        },
        "id": "BWJi9WxHSmR3",
        "outputId": "b810c97d-09a4-43c7-e31b-7b82032e6353"
      },
      "outputs": [
        {
          "name": "stdout",
          "output_type": "stream",
          "text": [
            "Digite um número: 10\n",
            "10\n",
            "9\n",
            "8\n",
            "7\n",
            "6\n",
            "5\n",
            "4\n",
            "3\n",
            "2\n",
            "1\n",
            "Terminou\n"
          ]
        }
      ],
      "source": []
    },
    {
      "cell_type": "markdown",
      "metadata": {
        "id": "ekjjbGiHG_Nd"
      },
      "source": [
        "**Q15.** Implemente a mesma função solicitada em Q14, mas utilizando o comando `while`."
      ]
    },
    {
      "cell_type": "code",
      "execution_count": null,
      "metadata": {
        "colab": {
          "base_uri": "https://localhost:8080/"
        },
        "id": "bY0qWA0gSjjg",
        "outputId": "eacb43e0-a9a9-45fe-a801-641b96019de1"
      },
      "outputs": [
        {
          "name": "stdout",
          "output_type": "stream",
          "text": [
            "Digite um número: 10\n",
            "10\n",
            "9\n",
            "8\n",
            "7\n",
            "6\n",
            "5\n",
            "4\n",
            "3\n",
            "2\n",
            "1\n",
            "Terminou\n"
          ]
        }
      ],
      "source": []
    },
    {
      "cell_type": "markdown",
      "metadata": {
        "id": "BZp24Cx7HXuv"
      },
      "source": [
        "**Q16.** Implemente a mesma função solicitada em Q14, utilizando uma função recursiva."
      ]
    },
    {
      "cell_type": "code",
      "execution_count": null,
      "metadata": {
        "colab": {
          "base_uri": "https://localhost:8080/"
        },
        "id": "hjrh8nIsHi6S",
        "outputId": "524a1187-e2de-499f-ce4f-bdaf64ff74fc"
      },
      "outputs": [
        {
          "name": "stdout",
          "output_type": "stream",
          "text": [
            "Digite um número: 10\n",
            "10\n",
            "9\n",
            "8\n",
            "7\n",
            "6\n",
            "5\n",
            "4\n",
            "3\n",
            "2\n",
            "1\n",
            "Terminou\n"
          ]
        }
      ],
      "source": []
    },
    {
      "cell_type": "markdown",
      "metadata": {
        "id": "5A4t70TjF4wi"
      },
      "source": [
        "---\n",
        "## **5. Resolução de Problemas**"
      ]
    },
    {
      "cell_type": "markdown",
      "metadata": {
        "id": "TD8dIUAjkM6O"
      },
      "source": [
        "**Q17.** Calcule a área de uma circunferência com base no raio recebido pelo usuário. Imprima na tela o resultado."
      ]
    },
    {
      "cell_type": "code",
      "execution_count": null,
      "metadata": {
        "colab": {
          "base_uri": "https://localhost:8080/"
        },
        "id": "0LPNFCFtmPig",
        "outputId": "ba0a3706-a77f-45d1-ac4e-f7b1fd4963cb"
      },
      "outputs": [
        {
          "name": "stdout",
          "output_type": "stream",
          "text": [
            "Digite o raio da circunferência: 5\n",
            "A área da circunferência é: 78.54\n"
          ]
        }
      ],
      "source": []
    },
    {
      "cell_type": "markdown",
      "metadata": {
        "id": "WHINcIO5RknB"
      },
      "source": [
        "\n",
        "**Q18.** Crie um programa que recebe duas notas do usuário e retorna uma mensagem com base na aprovação ou reprovação considerando média maior ou igual a 6,0."
      ]
    },
    {
      "cell_type": "code",
      "execution_count": null,
      "metadata": {
        "colab": {
          "base_uri": "https://localhost:8080/"
        },
        "id": "V0fGa7NkRv3b",
        "outputId": "fa41c717-7523-4c64-de06-735f181cff3e"
      },
      "outputs": [
        {
          "name": "stdout",
          "output_type": "stream",
          "text": [
            "Digite o valor da nota 1: 4.7\n",
            "Digite o valor da nota 2: 5.9\n",
            "Infelizmente sua média foi 5.30 e você foi REPROVADO!!\n"
          ]
        }
      ],
      "source": []
    },
    {
      "cell_type": "markdown",
      "metadata": {
        "id": "J7UwSESQR5YS"
      },
      "source": [
        "**Q19.** Implemente uma função que recebe uma medida de ângulo em graus e retorna uma mensagem indicando o seu quadrante."
      ]
    },
    {
      "cell_type": "code",
      "execution_count": null,
      "metadata": {
        "colab": {
          "base_uri": "https://localhost:8080/"
        },
        "id": "wLEVYyzuSMEA",
        "outputId": "16397034-8c8d-4cd1-f5e8-c821d8db219d"
      },
      "outputs": [
        {
          "name": "stdout",
          "output_type": "stream",
          "text": [
            "Digite o valor do ângulo em graus(0 a 360): 276\n",
            "4º quadrante\n"
          ]
        }
      ],
      "source": []
    }
  ],
  "metadata": {
    "colab": {
      "provenance": []
    },
    "kernelspec": {
      "display_name": "Python 3",
      "name": "python3"
    },
    "language_info": {
      "codemirror_mode": {
        "name": "ipython",
        "version": 3
      },
      "file_extension": ".py",
      "mimetype": "text/x-python",
      "name": "python",
      "nbconvert_exporter": "python",
      "pygments_lexer": "ipython3",
      "version": "3.13.0"
    }
  },
  "nbformat": 4,
  "nbformat_minor": 0
}
